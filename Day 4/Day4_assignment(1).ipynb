{
  "nbformat": 4,
  "nbformat_minor": 0,
  "metadata": {
    "colab": {
      "name": "Day4_assignment.ipynb",
      "provenance": []
    },
    "kernelspec": {
      "name": "python3",
      "display_name": "Python 3"
    }
  },
  "cells": [
    {
      "cell_type": "code",
      "metadata": {
        "id": "tlgZl7Yh4add",
        "colab_type": "code",
        "colab": {}
      },
      "source": [
        "def operations_on_complex(a,b):\n",
        "  print('Addition result', a+b)\n",
        "  print('Subtraction_result', a-b)\n",
        "  try:\n",
        "    print('Division result', a/b)\n",
        "  except:\n",
        "    print(\"Division error\")\n",
        "  print('Multiplication result', a*b)\n",
        "  try :\n",
        "    print(a%b)\n",
        "  except:\n",
        "    print(\"Modulo division error\")\n",
        "  try:\n",
        "    print(a//b)\n",
        "  except:\n",
        "    print(\"Floor division error\")"
      ],
      "execution_count": 3,
      "outputs": []
    },
    {
      "cell_type": "code",
      "metadata": {
        "id": "CRJjVqNb4tuG",
        "colab_type": "code",
        "colab": {
          "base_uri": "https://localhost:8080/",
          "height": 121
        },
        "outputId": "3c361029-771f-4abb-bca7-fc89ef12ba1f"
      },
      "source": [
        "a = 2+3j\n",
        "b = 3+5j\n",
        "operations_on_complex(a,b)"
      ],
      "execution_count": 4,
      "outputs": [
        {
          "output_type": "stream",
          "text": [
            "Addition result (5+8j)\n",
            "Subtraction_result (-1-2j)\n",
            "Division result (0.6176470588235294-0.02941176470588238j)\n",
            "Multiplication result (-9+19j)\n",
            "Modulo division error\n",
            "Floor division error\n"
          ],
          "name": "stdout"
        }
      ]
    },
    {
      "cell_type": "markdown",
      "metadata": {
        "id": "Lcn2EMdcuDHa",
        "colab_type": "text"
      },
      "source": [
        "# range() function in python\n",
        "This function takes in one parameter viz., int\n",
        "\n",
        "This function returns list of numbers ranging from the zero to the (parameter-1)\n",
        "\n",
        "eg: range(100) returns list of numbers from 0-99"
      ]
    },
    {
      "cell_type": "code",
      "metadata": {
        "id": "OAuhBEHr42uY",
        "colab_type": "code",
        "colab": {}
      },
      "source": [
        "def subtraction(a,b):\n",
        "  c = a-b\n",
        "  if a>25:\n",
        "    print(a*b)\n",
        "  else:\n",
        "    print(a/b)"
      ],
      "execution_count": 5,
      "outputs": []
    },
    {
      "cell_type": "code",
      "metadata": {
        "id": "pyq1ZtB65FvN",
        "colab_type": "code",
        "colab": {
          "base_uri": "https://localhost:8080/",
          "height": 34
        },
        "outputId": "fad41a42-bb85-4719-c6a5-8f805a5fdbc7"
      },
      "source": [
        "subtraction(2,3)"
      ],
      "execution_count": 6,
      "outputs": [
        {
          "output_type": "stream",
          "text": [
            "0.6666666666666666\n"
          ],
          "name": "stdout"
        }
      ]
    },
    {
      "cell_type": "code",
      "metadata": {
        "id": "EHmLNyikumGS",
        "colab_type": "code",
        "colab": {
          "base_uri": "https://localhost:8080/",
          "height": 86
        },
        "outputId": "7bfdcedb-7827-4761-c86d-9350c029b706"
      },
      "source": [
        "list = [1,2,4,5,5,6,6,7,9,19]\n",
        "for i in list:\n",
        "  if i%2==0:\n",
        "    print(i**2-2)"
      ],
      "execution_count": 7,
      "outputs": [
        {
          "output_type": "stream",
          "text": [
            "2\n",
            "14\n",
            "34\n",
            "34\n"
          ],
          "name": "stdout"
        }
      ]
    },
    {
      "cell_type": "code",
      "metadata": {
        "id": "We-SNDm9u0qe",
        "colab_type": "code",
        "colab": {
          "base_uri": "https://localhost:8080/",
          "height": 69
        },
        "outputId": "a9383d33-8044-4e19-b133-7cd201e7d28d"
      },
      "source": [
        "list1 = [1,2,4,5,6,7,8,9,10,16]\n",
        "for i in list1:\n",
        "  if (i>7)&(i%2==0):\n",
        "    print(i)"
      ],
      "execution_count": 13,
      "outputs": [
        {
          "output_type": "stream",
          "text": [
            "8\n",
            "10\n",
            "16\n"
          ],
          "name": "stdout"
        }
      ]
    },
    {
      "cell_type": "code",
      "metadata": {
        "id": "umDOktVXu_g4",
        "colab_type": "code",
        "colab": {}
      },
      "source": [
        ""
      ],
      "execution_count": null,
      "outputs": []
    }
  ]
}